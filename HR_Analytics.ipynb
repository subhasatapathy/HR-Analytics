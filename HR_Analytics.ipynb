{
  "nbformat": 4,
  "nbformat_minor": 0,
  "metadata": {
    "colab": {
      "name": "HR Analytics.ipynb",
      "provenance": [],
      "collapsed_sections": []
    },
    "kernelspec": {
      "name": "python3",
      "display_name": "Python 3"
    }
  },
  "cells": [
    {
      "cell_type": "code",
      "metadata": {
        "id": "kUWLy4HJfGIo"
      },
      "source": [
        "from contextlib import suppress\n",
        "import mailbox\n",
        "import re\n",
        "import os\n",
        "!pip install xlsxwriter\n",
        "import xlsxwriter\n",
        "from google.colab import drive\n",
        "import zipfile\n",
        "drive.mount('/content/drive')"
      ],
      "execution_count": null,
      "outputs": []
    },
    {
      "cell_type": "code",
      "metadata": {
        "id": "3wyWOLO4i9X7"
      },
      "source": [
        "import zipfile\n",
        "os.chdir(\"/content/drive/My Drive/Takeout/\")\n",
        "#Extracting ZIp\n",
        "extension = \".zip\"\n",
        "for item in os.listdir(os.getcwd()): # loop through items in dir\n",
        "    if item.endswith(extension): # check for \".zip\" extension\n",
        "        file_name = os.path.abspath(item) # get full path of files\n",
        "        zip_ref = zipfile.ZipFile(file_name) # create zipfile object\n",
        "        zip_ref.extractall(os.getcwd()) # extract file to dir\n",
        "        zip_ref.close() # close file"
      ],
      "execution_count": null,
      "outputs": []
    },
    {
      "cell_type": "markdown",
      "metadata": {
        "id": "Bbc7s8k_fgbS"
      },
      "source": [
        "Append mails to a list"
      ]
    },
    {
      "cell_type": "code",
      "metadata": {
        "id": "IVJe21YGfmwa"
      },
      "source": [
        "a= [] \n",
        "for m in mailbox.mbox(\"/content/drive/My Drive/Takeout/Takeout/Mail/Trash.mbox\"):\n",
        "    with suppress(KeyError):\n",
        "        mstring = m.as_string()\n",
        "        a.append(mstring)"
      ],
      "execution_count": null,
      "outputs": []
    },
    {
      "cell_type": "markdown",
      "metadata": {
        "id": "_XhJU1S1fsVy"
      },
      "source": [
        "Append email ids to a list"
      ]
    },
    {
      "cell_type": "code",
      "metadata": {
        "id": "HorJPL0wf5Px"
      },
      "source": [
        "mail1 = []\n",
        "for i in range(len(a)):\n",
        "    s = re.findall(r'[\\s|\\<]\\w+\\.?\\_?\\w*\\@\\w*\\-?\\.?\\w*\\.?\\w*\\.\\w+',a[i])\n",
        "    for i in range(len(s)):\n",
        "        mail1.append(s[i])"
      ],
      "execution_count": null,
      "outputs": []
    },
    {
      "cell_type": "markdown",
      "metadata": {
        "id": "R8om8D_0oggX"
      },
      "source": [
        "Remove garbage charcters"
      ]
    },
    {
      "cell_type": "code",
      "metadata": {
        "id": "fC2QU04vojFp"
      },
      "source": [
        "mail = []\n",
        "for i in range(len(mail1)):\n",
        "    s = re.findall(r'\\w+\\.?\\_?\\w*\\@\\w*\\-?\\.?\\w*\\.?\\w*\\.\\w+',mail1[i])\n",
        "    for i in range(len(s)):\n",
        "        mail.append(s[i])"
      ],
      "execution_count": null,
      "outputs": []
    },
    {
      "cell_type": "code",
      "metadata": {
        "id": "VcW2zUJCHdCK"
      },
      "source": [
        "import pandas as pd\n",
        "mail2 = pd.DataFrame(mail)\n",
        "mail2.to_excel('HRA7.xlsx')"
      ],
      "execution_count": null,
      "outputs": []
    },
    {
      "cell_type": "markdown",
      "metadata": {
        "id": "U6mGyB7pf8_8"
      },
      "source": [
        "Change directory for obtaining output"
      ]
    },
    {
      "cell_type": "markdown",
      "metadata": {
        "id": "rIYouFDjgIKM"
      },
      "source": [
        "Get all emails in an excel file"
      ]
    },
    {
      "cell_type": "code",
      "metadata": {
        "id": "KQ0SjXZIgK1x"
      },
      "source": [
        "xbook = xlsxwriter.Workbook('HRA6.xlsx')\n",
        "xsheet = xbook.add_worksheet('HR_1')\n",
        "xsheet.write_row(0,0,mail2)\n",
        "xbook.close()"
      ],
      "execution_count": null,
      "outputs": []
    },
    {
      "cell_type": "markdown",
      "metadata": {
        "id": "mRGIv5wwmqG1"
      },
      "source": [
        "Getting emails from text file"
      ]
    }
  ]
}